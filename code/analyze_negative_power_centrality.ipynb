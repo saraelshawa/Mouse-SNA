{
 "cells": [
  {
   "cell_type": "code",
   "execution_count": 2,
   "metadata": {},
   "outputs": [],
   "source": [
    "import pandas as pd\n",
    "import os\n"
   ]
  },
  {
   "cell_type": "markdown",
   "metadata": {},
   "source": [
    "# Analyzing negative power centrality measures"
   ]
  },
  {
   "cell_type": "code",
   "execution_count": 59,
   "metadata": {},
   "outputs": [
    {
     "name": "stdout",
     "output_type": "stream",
     "text": [
      "---------\n",
      "---------\n",
      "---------\n",
      "---------\n",
      "---------\n",
      "---------\n",
      "---------\n",
      "---------\n",
      "---------\n",
      "---------\n",
      "---------\n",
      "---------\n",
      "---------\n",
      "---------\n",
      "---------\n",
      "<bound method NDFrame.head of 62    -0.198413\n",
      "102   -0.022727\n",
      "Name: Score, dtype: float64>\n",
      "62     fixed_Female-FCvsCC_3vs3Females_P60_FCvsCC_Gro...\n",
      "102    fixed_Male-FCvsCC_3vs3Males_P60_FCvsCC_Group8A...\n",
      "Name: File, dtype: object\n",
      "20191310_raw_exponent_-1_Head-Head_powercentrality_SPLIT.csv\n",
      "---------\n",
      "---------\n",
      "---------\n",
      "<bound method NDFrame.head of 17   -0.183333\n",
      "Name: Score, dtype: float64>\n",
      "17    fixed_Female-CCvsCC_3vs3Females_P60_CCvsCC_Gro...\n",
      "Name: File, dtype: object\n",
      "20191310_raw_exponent_-1_Head-Tail_powercentrality_SPLIT.csv\n",
      "---------\n",
      "---------\n",
      "---------\n",
      "---------\n",
      "---------\n",
      "---------\n",
      "---------\n",
      "---------\n",
      "---------\n",
      "---------\n",
      "<bound method NDFrame.head of 23    -inf\n",
      "35    -inf\n",
      "48    -inf\n",
      "64    -inf\n",
      "95    -inf\n",
      "101   -inf\n",
      "Name: Score, dtype: float64>\n",
      "23     fixed_Female-CCvsCC_3vs3Females_P60_CCvsCC_Gro...\n",
      "35     fixed_Female-CCvsCC_3vs3Females_P60_CCvsCC_Gro...\n",
      "48     fixed_Female-FCvsCC_3vs3Females_P60_FCvsCC_Gro...\n",
      "64     fixed_Male-CCvsCC_3vs3Males_P60_CCvsCC_Group10...\n",
      "95     fixed_Male-FCvsCC_3vs3Males_P60_FCvsCC_Group4_...\n",
      "101    fixed_Male-FCvsCC_3vs3Males_P60_FCvsCC_Group7S...\n",
      "Name: File, dtype: object\n",
      "20191310_raw_exponent_-1_Oriented-Towards_powercentrality_SPLIT.csv\n",
      "---------\n",
      "---------\n"
     ]
    }
   ],
   "source": [
    "for filename in os.listdir('../data/power_centrality/'):\n",
    "    if \"raw\" in filename:\n",
    "        f = pd.read_csv(os.path.join('../data/power_centrality/', filename))\n",
    "#         print(f.Score.shape)\n",
    "        f = f.dropna(how='any')\n",
    "        f['Score'].dropna(how='any', inplace=True)\n",
    "        new = (f.where(f['Score']<0).dropna())\n",
    "        if new.shape[0] > 0: \n",
    "            print(new.Score.head)\n",
    "            print(new.File)\n",
    "            print(filename)\n",
    "        print(\"---------\")\n",
    "    \n",
    "    "
   ]
  },
  {
   "cell_type": "code",
   "execution_count": null,
   "metadata": {},
   "outputs": [],
   "source": []
  }
 ],
 "metadata": {
  "kernelspec": {
   "display_name": "Python 3",
   "language": "python",
   "name": "python3"
  },
  "language_info": {
   "codemirror_mode": {
    "name": "ipython",
    "version": 3
   },
   "file_extension": ".py",
   "mimetype": "text/x-python",
   "name": "python",
   "nbconvert_exporter": "python",
   "pygments_lexer": "ipython3",
   "version": "3.7.3"
  }
 },
 "nbformat": 4,
 "nbformat_minor": 4
}
